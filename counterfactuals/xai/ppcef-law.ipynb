{
 "cells": [
  {
   "cell_type": "code",
   "execution_count": 1,
   "metadata": {},
   "outputs": [
    {
     "name": "stderr",
     "output_type": "stream",
     "text": [
      "/Users/michaldros/dev/university/xai/counterfactuals/venv/lib/python3.11/site-packages/tqdm/auto.py:21: TqdmWarning: IProgress not found. Please update jupyter and ipywidgets. See https://ipywidgets.readthedocs.io/en/stable/user_install.html\n",
      "  from .autonotebook import tqdm as notebook_tqdm\n",
      "  0%|          | 0/5000 [00:00<?, ?it/s]/Users/michaldros/dev/university/xai/counterfactuals/counterfactuals/discriminative_models/multilayer_perceptron.py:109: FutureWarning: You are using `torch.load` with `weights_only=False` (the current default value), which uses the default pickle module implicitly. It is possible to construct malicious pickle data which will execute arbitrary code during unpickling (See https://github.com/pytorch/pytorch/blob/main/SECURITY.md#untrusted-models for more details). In a future release, the default value for `weights_only` will be flipped to `True`. This limits the functions that could be executed during unpickling. Arbitrary objects will no longer be allowed to be loaded via this mode unless they are explicitly allowlisted by the user via `torch.serialization.add_safe_globals`. We recommend you start setting `weights_only=True` for any use case where you don't have full control of the loaded file. Please open an issue on GitHub for any issues related to this experimental feature.\n",
      "  self.load_state_dict(torch.load(path))\n",
      "Epoch 329, Train: 0.4698, test: 0.5159, patience: 300:   7%|▋         | 330/5000 [00:10<02:22, 32.85it/s]\n",
      "Epoch 111, Train: -1.2250, test: -1.3029, patience: 20:  11%|█         | 111/1000 [00:07<01:01, 14.56it/s]\n",
      "/Users/michaldros/dev/university/xai/counterfactuals/counterfactuals/generative_models/maf.py:154: FutureWarning: You are using `torch.load` with `weights_only=False` (the current default value), which uses the default pickle module implicitly. It is possible to construct malicious pickle data which will execute arbitrary code during unpickling (See https://github.com/pytorch/pytorch/blob/main/SECURITY.md#untrusted-models for more details). In a future release, the default value for `weights_only` will be flipped to `True`. This limits the functions that could be executed during unpickling. Arbitrary objects will no longer be allowed to be loaded via this mode unless they are explicitly allowlisted by the user via `torch.serialization.add_safe_globals`. We recommend you start setting `weights_only=True` for any use case where you don't have full control of the loaded file. Please open an issue on GitHub for any issues related to this experimental feature.\n",
      "  self.load_state_dict(torch.load(path))\n",
      "Discriminator loss: 0.0000, Prob loss: 0.0000:  26%|██▌       | 1032/4000 [00:05<00:14, 201.61it/s]\n"
     ]
    },
    {
     "name": "stdout",
     "output_type": "stream",
     "text": [
      "[[0.83324206 0.44325075 0.5241975 ]\n",
      " [0.7297297  0.6666667  0.37310925]\n",
      " [0.6756757  0.42857143 0.5546219 ]\n",
      " ...\n",
      " [0.6286705  0.5275927  0.5796142 ]\n",
      " [0.46296933 0.6939928  0.6594068 ]\n",
      " [0.59345514 0.510941   0.58612925]]\n"
     ]
    },
    {
     "data": {
      "text/plain": [
       "{'coverage': 1.0,\n",
       " 'validity': 0.6216216216216216,\n",
       " 'actionability': 0.20045045045045046,\n",
       " 'sparsity': 0.7995495495495496,\n",
       " 'proximity_categorical_hamming': nan,\n",
       " 'proximity_categorical_jaccard': 0.1747434908992034,\n",
       " 'proximity_continuous_manhattan': 0.2953791396179493,\n",
       " 'proximity_continuous_euclidean': 0.1747434908992034,\n",
       " 'proximity_continuous_mad': 2.469260804409134,\n",
       " 'proximity_l2_jaccard': 0.1747434908992034,\n",
       " 'proximity_mad_hamming': nan,\n",
       " 'prob_plausibility': 1.0,\n",
       " 'log_density_cf': 1.6123302,\n",
       " 'log_density_test': 0.0727248,\n",
       " 'lof_scores_cf': 1.0429159,\n",
       " 'lof_scores_test': 1.0629689,\n",
       " 'isolation_forest_scores_cf': 0.0517592142653124,\n",
       " 'isolation_forest_scores_test': 0.029737427250345106}"
      ]
     },
     "execution_count": 1,
     "metadata": {},
     "output_type": "execute_result"
    }
   ],
   "source": [
    "import numpy as np\n",
    "import torch\n",
    "from counterfactuals.datasets import LawDataset\n",
    "from counterfactuals.cf_methods.ppcef import PPCEF\n",
    "from counterfactuals.generative_models import MaskedAutoregressiveFlow\n",
    "from counterfactuals.discriminative_models import MultilayerPerceptron\n",
    "from counterfactuals.losses import BinaryDiscLoss\n",
    "from counterfactuals.metrics import evaluate_cf\n",
    "\n",
    "dataset = LawDataset(\"../data/law.csv\")\n",
    "train_dataloader = dataset.train_dataloader(batch_size=128, shuffle=True)\n",
    "test_dataloader = dataset.test_dataloader(batch_size=128, shuffle=False)\n",
    "\n",
    "disc_model = MultilayerPerceptron(\n",
    "    input_size=dataset.X_train.shape[1], hidden_layer_sizes=[256, 256], target_size=1, dropout=0.2\n",
    ")\n",
    "disc_model.fit(\n",
    "    train_dataloader,\n",
    "    test_dataloader,\n",
    "    epochs=5000,\n",
    "    patience=300,\n",
    "    lr=1e-3,\n",
    ")\n",
    "\n",
    "gen_model = MaskedAutoregressiveFlow(\n",
    "    features=dataset.X_train.shape[1], hidden_features=8, context_features=1\n",
    ")\n",
    "gen_model.fit(train_dataloader, test_dataloader, num_epochs=1000)\n",
    "\n",
    "cf = PPCEF(\n",
    "    gen_model=gen_model,\n",
    "    disc_model=disc_model,\n",
    "    disc_model_criterion=BinaryDiscLoss(),\n",
    "    neptune_run=None,\n",
    ")\n",
    "cf_dataloader = dataset.test_dataloader(batch_size=1024, shuffle=False)\n",
    "log_prob_threshold = torch.quantile(gen_model.predict_log_prob(cf_dataloader), 0.25)\n",
    "deltas, X_orig, y_orig, y_target, logs = cf.explain_dataloader(\n",
    "    cf_dataloader, alpha=100, log_prob_threshold=log_prob_threshold, epochs=4000\n",
    ")\n",
    "X_cf = X_orig + deltas\n",
    "print(X_cf)\n",
    "evaluate_cf(\n",
    "    disc_model=disc_model,\n",
    "    gen_model=gen_model,\n",
    "    X_cf=X_cf,\n",
    "    model_returned=np.ones(X_cf.shape[0]),\n",
    "    continuous_features=dataset.numerical_features,\n",
    "    categorical_features=dataset.categorical_features,\n",
    "    X_train=dataset.X_train,\n",
    "    y_train=dataset.y_train,\n",
    "    X_test=X_orig,\n",
    "    y_test=y_orig,\n",
    "    median_log_prob=log_prob_threshold,\n",
    "    y_target=y_target,\n",
    ")"
   ]
  }
 ],
 "metadata": {
  "kernelspec": {
   "display_name": "venv",
   "language": "python",
   "name": "python3"
  },
  "language_info": {
   "codemirror_mode": {
    "name": "ipython",
    "version": 3
   },
   "file_extension": ".py",
   "mimetype": "text/x-python",
   "name": "python",
   "nbconvert_exporter": "python",
   "pygments_lexer": "ipython3",
   "version": "3.11.7"
  }
 },
 "nbformat": 4,
 "nbformat_minor": 2
}
