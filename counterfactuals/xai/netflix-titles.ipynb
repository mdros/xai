{
 "cells": [
  {
   "cell_type": "code",
   "execution_count": null,
   "metadata": {},
   "outputs": [
    {
     "name": "stderr",
     "output_type": "stream",
     "text": [
      "/home/natkramarz/xai_project_assignments/xai/counterfactuals/venv/lib/python3.9/site-packages/tqdm/auto.py:21: TqdmWarning: IProgress not found. Please update jupyter and ipywidgets. See https://ipywidgets.readthedocs.io/en/stable/user_install.html\n",
      "  from .autonotebook import tqdm as notebook_tqdm\n",
      "/home/natkramarz/xai_project_assignments/xai/counterfactuals/counterfactuals/datasets/netflix_titles.py:28: SettingWithCopyWarning: \n",
      "A value is trying to be set on a copy of a slice from a DataFrame.\n",
      "Try using .loc[row_indexer,col_indexer] = value instead\n",
      "\n",
      "See the caveats in the documentation: https://pandas.pydata.org/pandas-docs/stable/user_guide/indexing.html#returning-a-view-versus-a-copy\n",
      "  raw_data[target_column] = raw_data[target_column].map({\"Movie\": 0, \"TV Show\": 1})\n",
      "/home/natkramarz/xai_project_assignments/xai/counterfactuals/counterfactuals/datasets/netflix_titles.py:37: SettingWithCopyWarning: \n",
      "A value is trying to be set on a copy of a slice from a DataFrame.\n",
      "Try using .loc[row_indexer,col_indexer] = value instead\n",
      "\n",
      "See the caveats in the documentation: https://pandas.pydata.org/pandas-docs/stable/user_guide/indexing.html#returning-a-view-versus-a-copy\n",
      "  raw_data[\"duration\"] = raw_data[\"duration\"].apply(parse_duration)\n",
      "  0%|          | 0/5000 [00:00<?, ?it/s]/home/natkramarz/xai_project_assignments/xai/counterfactuals/counterfactuals/discriminative_models/multilayer_perceptron.py:109: FutureWarning: You are using `torch.load` with `weights_only=False` (the current default value), which uses the default pickle module implicitly. It is possible to construct malicious pickle data which will execute arbitrary code during unpickling (See https://github.com/pytorch/pytorch/blob/main/SECURITY.md#untrusted-models for more details). In a future release, the default value for `weights_only` will be flipped to `True`. This limits the functions that could be executed during unpickling. Arbitrary objects will no longer be allowed to be loaded via this mode unless they are explicitly allowlisted by the user via `torch.serialization.add_safe_globals`. We recommend you start setting `weights_only=True` for any use case where you don't have full control of the loaded file. Please open an issue on GitHub for any issues related to this experimental feature.\n",
      "  self.load_state_dict(torch.load(path))\n",
      "Epoch 485, Train: 0.3177, test: 0.3454, patience: 300:  10%|▉         | 486/5000 [00:46<07:10, 10.50it/s]\n",
      "Epoch 81, Train: -65.6134, test: -67.7431, patience: 20:   8%|▊         | 81/1000 [00:24<04:40,  3.27it/s]\n",
      "/home/natkramarz/xai_project_assignments/xai/counterfactuals/counterfactuals/generative_models/maf.py:154: FutureWarning: You are using `torch.load` with `weights_only=False` (the current default value), which uses the default pickle module implicitly. It is possible to construct malicious pickle data which will execute arbitrary code during unpickling (See https://github.com/pytorch/pytorch/blob/main/SECURITY.md#untrusted-models for more details). In a future release, the default value for `weights_only` will be flipped to `True`. This limits the functions that could be executed during unpickling. Arbitrary objects will no longer be allowed to be loaded via this mode unless they are explicitly allowlisted by the user via `torch.serialization.add_safe_globals`. We recommend you start setting `weights_only=True` for any use case where you don't have full control of the loaded file. Please open an issue on GitHub for any issues related to this experimental feature.\n",
      "  self.load_state_dict(torch.load(path))\n",
      "Discriminator loss: 0.0007, Prob loss: 0.7830: 100%|██████████| 4000/4000 [00:38<00:00, 103.17it/s]\n",
      "Discriminator loss: 0.0072, Prob loss: 1.0954: 100%|██████████| 4000/4000 [00:29<00:00, 134.04it/s]\n"
     ]
    },
    {
     "name": "stdout",
     "output_type": "stream",
     "text": [
      "Generated Counterfactuals: [[ 8.92069519e-01  1.71561509e-01 -1.37060299e-04 ...  3.86449285e-02\n",
      "  -1.42845107e-04 -1.00449470e-04]\n",
      " [ 8.92879367e-01  1.68963432e-01 -1.06772124e-04 ...  3.50932106e-02\n",
      "   2.67594354e-04  2.00288632e-04]\n",
      " [ 8.97637188e-01  1.74661323e-01 -9.32478288e-05 ...  6.49642646e-02\n",
      "  -1.08920867e-04 -1.26485276e-04]\n",
      " ...\n",
      " [ 9.47916687e-01  1.15044251e-01  0.00000000e+00 ...  0.00000000e+00\n",
      "   0.00000000e+00  0.00000000e+00]\n",
      " [ 1.00656700e+00  1.15073711e-01  2.38647699e-05 ... -5.43177947e-02\n",
      "  -7.78357935e-06  3.83529929e-04]\n",
      " [ 1.18613565e+00 -1.53614804e-02  1.26865125e-05 ... -1.30682960e-02\n",
      "   8.01245624e-04  9.10882780e-04]]\n"
     ]
    },
    {
     "data": {
      "text/plain": [
       "{'coverage': 1.0,\n",
       " 'validity': 0.9693181818181819,\n",
       " 'actionability': 0.09488636363636363,\n",
       " 'sparsity': 0.9051136363636364,\n",
       " 'proximity_categorical_hamming': 0.8142011977508523,\n",
       " 'proximity_categorical_jaccard': 0.8142011977508523,\n",
       " 'proximity_continuous_manhattan': 0.8187039034653473,\n",
       " 'proximity_continuous_euclidean': 0.8142011977508523,\n",
       " 'proximity_continuous_mad': 1.9302398575096449,\n",
       " 'proximity_l2_jaccard': 0.8142011977508523,\n",
       " 'proximity_mad_hamming': 1.9302398575096449,\n",
       " 'prob_plausibility': 0.7471590909090909,\n",
       " 'log_density_cf': 69.9904,\n",
       " 'log_density_test': 37.34087,\n",
       " 'lof_scores_cf': 46647844.0,\n",
       " 'lof_scores_test': 1089414.9,\n",
       " 'isolation_forest_scores_cf': 0.0767617504134978,\n",
       " 'isolation_forest_scores_test': 0.09178902924334606}"
      ]
     },
     "execution_count": 1,
     "metadata": {},
     "output_type": "execute_result"
    }
   ],
   "source": [
    "import numpy as np\n",
    "import torch\n",
    "from counterfactuals.datasets import NetflixDataset\n",
    "from counterfactuals.cf_methods.ppcef import PPCEF\n",
    "from counterfactuals.generative_models import MaskedAutoregressiveFlow\n",
    "from counterfactuals.discriminative_models import MultilayerPerceptron\n",
    "from counterfactuals.losses import BinaryDiscLoss\n",
    "from counterfactuals.metrics import evaluate_cf\n",
    "\n",
    "dataset = NetflixDataset(\"../data/netflix_titles.csv\")\n",
    "train_dataloader = dataset.train_dataloader(batch_size=128, shuffle=True)\n",
    "test_dataloader = dataset.test_dataloader(batch_size=128, shuffle=False)\n",
    "\n",
    "disc_model = MultilayerPerceptron(\n",
    "    input_size=dataset.X_train.shape[1], hidden_layer_sizes=[256, 256], target_size=1, dropout=0.2\n",
    ")\n",
    "disc_model.fit(\n",
    "    train_dataloader,\n",
    "    test_dataloader,\n",
    "    epochs=5000,\n",
    "    patience=300,\n",
    "    lr=1e-3,\n",
    ")\n",
    "\n",
    "gen_model = MaskedAutoregressiveFlow(\n",
    "    features=dataset.X_train.shape[1], hidden_features=8, context_features=1\n",
    ")\n",
    "gen_model.fit(train_dataloader, test_dataloader, num_epochs=1000)\n",
    "\n",
    "cf = PPCEF(\n",
    "    gen_model=gen_model,\n",
    "    disc_model=disc_model,\n",
    "    disc_model_criterion=BinaryDiscLoss(),\n",
    "    neptune_run=None,\n",
    ")\n",
    "\n",
    "cf_dataloader = dataset.test_dataloader(batch_size=1024, shuffle=False)\n",
    "log_prob_threshold = torch.quantile(gen_model.predict_log_prob(cf_dataloader), 0.25)\n",
    "deltas, X_orig, y_orig, y_target, logs = cf.explain_dataloader(\n",
    "    cf_dataloader, alpha=100, log_prob_threshold=log_prob_threshold, epochs=4000\n",
    ")\n",
    "\n",
    "X_cf = X_orig + deltas\n",
    "print(\"Generated Counterfactuals:\", X_cf)\n",
    "\n",
    "evaluate_cf(\n",
    "    disc_model=disc_model,\n",
    "    gen_model=gen_model,\n",
    "    X_cf=X_cf,\n",
    "    model_returned=np.ones(X_cf.shape[0]),\n",
    "    continuous_features=dataset.numerical_features,\n",
    "    categorical_features=dataset.categorical_features,\n",
    "    X_train=dataset.X_train,\n",
    "    y_train=dataset.y_train,\n",
    "    X_test=X_orig,\n",
    "    y_test=y_orig,\n",
    "    median_log_prob=log_prob_threshold,\n",
    "    y_target=y_target,\n",
    ")"
   ]
  }
 ],
 "metadata": {
  "kernelspec": {
   "display_name": "venv",
   "language": "python",
   "name": "python3"
  },
  "language_info": {
   "codemirror_mode": {
    "name": "ipython",
    "version": 3
   },
   "file_extension": ".py",
   "mimetype": "text/x-python",
   "name": "python",
   "nbconvert_exporter": "python",
   "pygments_lexer": "ipython3",
   "version": "3.9.19"
  }
 },
 "nbformat": 4,
 "nbformat_minor": 2
}
